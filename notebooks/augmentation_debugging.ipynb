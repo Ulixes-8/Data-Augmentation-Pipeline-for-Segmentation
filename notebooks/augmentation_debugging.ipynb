{
 "cells": [
  {
   "cell_type": "code",
   "execution_count": 1,
   "metadata": {},
   "outputs": [
    {
     "name": "stdout",
     "output_type": "stream",
     "text": [
      "Total files: 8817\n",
      "Files by augmentation number:\n",
      "  aug3: 2939\n",
      "  aug1: 2939\n",
      "  aug2: 2939\n",
      "Cat images: 2844\n",
      "Dog images: 5973\n"
     ]
    }
   ],
   "source": [
    "# Count files by their naming pattern to see what's going on\n",
    "import os\n",
    "import re\n",
    "from collections import Counter\n",
    "\n",
    "path = \"/home/ulixes/segmentation_cv/data_augmentation/data/processed/Train/augmented/images\"\n",
    "files = [f for f in os.listdir(path) if os.path.isfile(os.path.join(path, f))]\n",
    "print(f\"Total files: {len(files)}\")\n",
    "\n",
    "# Count by augmentation number\n",
    "aug_counter = Counter()\n",
    "for filename in files:\n",
    "    # Extract the augmentation number (aug1, aug2, aug3)\n",
    "    match = re.search(r'_aug(\\d+)', filename)\n",
    "    if match:\n",
    "        aug_num = int(match.group(1))\n",
    "        aug_counter[aug_num] += 1\n",
    "    else:\n",
    "        aug_counter['no_aug'] += 1\n",
    "\n",
    "print(\"Files by augmentation number:\")\n",
    "for aug_num, count in aug_counter.items():\n",
    "    print(f\"  aug{aug_num}: {count}\")\n",
    "\n",
    "# Count cat vs dog images\n",
    "cat_breeds = ['abyssinian', 'bengal', 'birman', 'bombay', 'british', 'egyptian', \n",
    "              'maine', 'persian', 'ragdoll', 'russian', 'siamese', 'sphynx']\n",
    "\n",
    "cat_count = 0\n",
    "dog_count = 0\n",
    "\n",
    "for filename in files:\n",
    "    filename_lower = filename.lower()\n",
    "    is_cat = any(breed in filename_lower for breed in cat_breeds)\n",
    "    if is_cat:\n",
    "        cat_count += 1\n",
    "    else:\n",
    "        dog_count += 1\n",
    "\n",
    "print(f\"Cat images: {cat_count}\")\n",
    "print(f\"Dog images: {dog_count}\")"
   ]
  }
 ],
 "metadata": {
  "kernelspec": {
   "display_name": "venv",
   "language": "python",
   "name": "python3"
  },
  "language_info": {
   "codemirror_mode": {
    "name": "ipython",
    "version": 3
   },
   "file_extension": ".py",
   "mimetype": "text/x-python",
   "name": "python",
   "nbconvert_exporter": "python",
   "pygments_lexer": "ipython3",
   "version": "3.12.3"
  }
 },
 "nbformat": 4,
 "nbformat_minor": 2
}
